{
 "cells": [
  {
   "cell_type": "markdown",
   "metadata": {},
   "source": [
    "# <img style=\"float: left; padding-right: 20px; width: 200px\" src=\"https://raw.githubusercontent.com/raxlab/imt2200-data/main/media/logo.jpg\">  IMT 2200 - Introducción a Ciencia de Datos\n",
    "**Pontificia Universidad Católica de Chile**<br>\n",
    "**Instituto de Ingeniería Matemática y Computacional**<br>\n",
    "**Semestre 2025-S2**<br>\n",
    "**Profesor:** Rodrigo A. Carrasco <br>\n",
    "**Alumno: Israel Pino Saavedra**"
   ]
  },
  {
   "cell_type": "markdown",
   "metadata": {},
   "source": [
    "---\n",
    "# <h1><center>Tarea 03: Exploración de datos </center></h1>\n",
    "\n",
    "**Fecha de Entrega:** 28 de octubre de 2025, a las 23:59.\n",
    "\n",
    "**Fecha de publicación**: 14 de octubre de 2025.\n",
    "\n",
    "**Formato de entrega:** Notebook ejecutado y comentado (`.ipynb`) en el módulo de Tarea 03 habilitado en Canvas."
   ]
  },
  {
   "cell_type": "markdown",
   "metadata": {},
   "source": [
    "---"
   ]
  },
  {
   "cell_type": "markdown",
   "metadata": {},
   "source": [
    "# <h1><center>Respuesta 2.1 </center></h1>\n"
   ]
  },
  {
   "cell_type": "markdown",
   "metadata": {},
   "source": [
    "Investigue sobre este índice y responda de manera concisa: \n",
    "* ¿En qué consiste el IVM? ¿Qué rango de valores toma y qué significan? \n",
    "* ¿Cómo se obtiene el IVM de un establecimiento educacional?"
   ]
  },
  {
   "cell_type": "markdown",
   "metadata": {},
   "source": [
    "**Respuesta**:  EL IVM es una medida generada a partir de la correlación de variables que representan las dimensiones o factores más relevantes de un concepto de vulnerabilidad no observable, según la trayectoria escolar del estudiante. El IVM fue desarrollado entre los años 2015 y 2016 mediante un convenio entre JUNAEB y Pontificia Universidad Católica de Chile.  Los rangos de valores van de 0 a 100 , donde 100 expresa la mayor vulnerabilidad posible, se puede expresar en categorias bajo, medio, alto y muy alto.\n",
    "\n",
    "Se obtiene anualmente mediante una Encuesta de vulnerabilidad aplicado a todos los hogares de estudiantes que cursan prekínder, kínder, 1° básico, 5° básico y I° Medio en establecimientos que reciben subvención del Estado de Chile. Además, se obtiene información del Registro de Padres, Madres y Embarazadas y del Mapa Nutricional\n",
    "\n",
    "Por otra parte, se consideran otros registros administrativos y estadísticas públicas que posee el Estado, provenientes de las siguientes instituciones:\n",
    "Ministerio de Educación (MINEDUC)\n",
    "Ministerio de Desarrollo Social (MDS)\n",
    "Servicio de Registro Civil e Identificación (SRCeI)\n",
    "Fondo Nacional de Salud (FONASA)\n",
    "Servicio Nacional de Menores (SENAME)\n",
    "Sistema Nacional de Información Municipal (SINIM)\n",
    "Instituto Nacional de Estadísticas (INE)\n"
   ]
  },
  {
   "cell_type": "markdown",
   "metadata": {},
   "source": [
    "---"
   ]
  },
  {
   "cell_type": "markdown",
   "metadata": {},
   "source": [
    "# <h1><center>Respuesta 3.1 Datos de establecimientos (0.5 puntos) </center></h1>\n",
    "\n",
    "Cargue los datos de los establecimientos en cuatro DataFrames distintos.\n"
   ]
  },
  {
   "cell_type": "code",
   "execution_count": null,
   "metadata": {},
   "outputs": [],
   "source": [
    "# @title Respuesta 3.1\n",
    "\n",
    "import pandas as pd\n",
    "\n",
    "nombre_archivo = \"IVM_Establecimientos_2025-2.xlsx\"\n",
    "\n",
    "dfP= pd.read_excel(\n",
    "    nombre_archivo,\n",
    "    sheet_name=\"Parvularia\")"
   ]
  },
  {
   "cell_type": "code",
   "execution_count": null,
   "metadata": {},
   "outputs": [],
   "source": [
    "#Verifico que corresponda el data frame con la visualización del archivo Excel\n",
    "nombre_imagen= \"Revision_tabla.png\"\n",
    "\n",
    "from IPython.display import Image, display\n",
    "display(Image(filename=nombre_imagen))\n",
    "\n",
    "# Visualizo si hay correspondencia\n",
    "dfP.head()"
   ]
  },
  {
   "cell_type": "code",
   "execution_count": null,
   "metadata": {},
   "outputs": [],
   "source": [
    "nombre_imagen2=\"Total filas data original.png\"\n",
    "from IPython.display import Image, display\n",
    "display(Image(filename=nombre_imagen2))\n",
    "\n",
    "# Visualizo si hay correspondencia\n",
    "dfP.info()"
   ]
  },
  {
   "cell_type": "code",
   "execution_count": null,
   "metadata": {},
   "outputs": [],
   "source": [
    "#Procedo a hacer lo mismo con cada pestaña de excel o nivel\n",
    "\n",
    "nombre_archivo = \"IVM_Establecimientos_2025-2.xlsx\"\n",
    "\n",
    "df1 = pd.read_excel(\n",
    "    nombre_archivo,\n",
    "    sheet_name=\"1º Ciclo Básico\")\n",
    "\n",
    "df2 = pd.read_excel(\n",
    "    nombre_archivo,\n",
    "    sheet_name=\"2º Ciclo Básico\")\n",
    "\n",
    "dfM = pd.read_excel(\n",
    "    nombre_archivo,\n",
    "    sheet_name=\"Media\")\n"
   ]
  },
  {
   "cell_type": "markdown",
   "metadata": {},
   "source": [
    "**Proceso de limpieza (manejo de valores nulos, duplicados, inválidos, transformación de tipos de datos, etc)** "
   ]
  },
  {
   "cell_type": "code",
   "execution_count": null,
   "metadata": {},
   "outputs": [],
   "source": [
    "#Reviso los nulos del primer nivel\n",
    "dfP.isnull().sum()"
   ]
  },
  {
   "cell_type": "code",
   "execution_count": null,
   "metadata": {},
   "outputs": [],
   "source": [
    "#los nulos de las demas\n",
    "df1.isnull().sum()"
   ]
  },
  {
   "cell_type": "code",
   "execution_count": null,
   "metadata": {},
   "outputs": [],
   "source": [
    "df2.isnull().sum()"
   ]
  },
  {
   "cell_type": "code",
   "execution_count": null,
   "metadata": {},
   "outputs": [],
   "source": [
    "dfM.isnull().sum()"
   ]
  },
  {
   "cell_type": "code",
   "execution_count": null,
   "metadata": {},
   "outputs": [],
   "source": [
    "#Conclusion: no hay valores nulos"
   ]
  },
  {
   "cell_type": "markdown",
   "metadata": {},
   "source": [
    "Verifico valores duplicados"
   ]
  },
  {
   "cell_type": "code",
   "execution_count": null,
   "metadata": {},
   "outputs": [],
   "source": [
    "dfP.duplicated().sum()\n"
   ]
  },
  {
   "cell_type": "code",
   "execution_count": null,
   "metadata": {},
   "outputs": [],
   "source": [
    "df1.duplicated().sum()"
   ]
  },
  {
   "cell_type": "code",
   "execution_count": null,
   "metadata": {},
   "outputs": [],
   "source": [
    "df2.duplicated().sum()\n"
   ]
  },
  {
   "cell_type": "code",
   "execution_count": null,
   "metadata": {},
   "outputs": [],
   "source": [
    "dfM.duplicated().sum()"
   ]
  },
  {
   "cell_type": "code",
   "execution_count": null,
   "metadata": {},
   "outputs": [],
   "source": [
    "#Conclusion: no hay valores duplicados"
   ]
  },
  {
   "cell_type": "markdown",
   "metadata": {},
   "source": [
    "**Verifico valores inválidos**"
   ]
  },
  {
   "cell_type": "code",
   "execution_count": null,
   "metadata": {},
   "outputs": [],
   "source": [
    "df1.info()"
   ]
  },
  {
   "cell_type": "code",
   "execution_count": null,
   "metadata": {},
   "outputs": [],
   "source": [
    "df1.sample(15)"
   ]
  },
  {
   "cell_type": "code",
   "execution_count": null,
   "metadata": {},
   "outputs": [],
   "source": [
    "#Busco valores extraños en una columna\n",
    "#asi encuentro los datos unicos de cada columna\n",
    "dfP['DS_RURALIDAD'].unique()\n"
   ]
  },
  {
   "cell_type": "code",
   "execution_count": null,
   "metadata": {},
   "outputs": [],
   "source": [
    "dfP.columns"
   ]
  },
  {
   "cell_type": "code",
   "execution_count": null,
   "metadata": {},
   "outputs": [],
   "source": [
    "lista_columnas= ['ID_RBD', 'DV_RBD', 'DS_NOM_ESTABLE', 'DS_TIPO_DEPENDENCIA',\n",
    "       'DS_RURALIDAD', 'ID_REGION_ESTABLE', 'ID_PROVINCIA_ESTABLE',\n",
    "       'ID_COMUNA_ESTABLE', 'DS_COMUNA_ESTABLE', 'N EVALUADO',\n",
    "       'IVM Establecimiento', 'IVM Bajo', 'IVM Medio', 'IVM Alto',\n",
    "       'IVM Muy Alto', 'IVM Salud', 'IVM CSE Familiar',\n",
    "       'IVM Estimulación y Apoyo', 'IVM Familia', 'IVM CSE Comunal',\n",
    "       'IVM Derechos']\n",
    "\n",
    "for columna in lista_columnas:\n",
    "    print(f\"Valores únicos en la columna {columna}:\")\n",
    "    print(dfP[columna].unique())\n",
    "    print(\"\\n\")\n",
    "\n",
    "#Si observamos el output no truncado, obtenemos todos los datos no repetidos por columna o datos únicos"
   ]
  },
  {
   "cell_type": "code",
   "execution_count": null,
   "metadata": {},
   "outputs": [],
   "source": [
    "\"\"\"Podemos ver que por ejemplo , los valores de la columna \"ID_REGION_ESTABLE\" es razonable, son las 16 regiones\n",
    "\n",
    "Valores únicos en la columna \"ID_REGION_ESTABLE\":\n",
    "[15  1  2  3  4  5  6  7 16  8  9 14 10 11 12 13]\"\"\""
   ]
  },
  {
   "cell_type": "code",
   "execution_count": null,
   "metadata": {},
   "outputs": [],
   "source": [
    "#Ahora lo hago con cada DF\n",
    "lista_columnas_df1=df1.columns\n",
    "for columna in lista_columnas_df1:\n",
    "    print(f\"Valores únicos en la columna {columna}:\")\n",
    "    print(df1[columna].unique())\n",
    "    print(\"\\n\")"
   ]
  },
  {
   "cell_type": "code",
   "execution_count": null,
   "metadata": {},
   "outputs": [],
   "source": [
    "#Ahora lo hago con DF2\n",
    "lista_columnas_df2=df2.columns\n",
    "for columna in lista_columnas_df2:\n",
    "    print(f\"Valores únicos en la columna {columna}:\")\n",
    "    print(df2[columna].unique())\n",
    "    print(\"\\n\")"
   ]
  },
  {
   "cell_type": "code",
   "execution_count": null,
   "metadata": {},
   "outputs": [],
   "source": [
    "#por ultimo con dfM \n",
    "lista_columnas_dfM=dfM.columns\n",
    "for columna in lista_columnas_dfM:\n",
    "    print(f\"Valores únicos en la columna {columna}:\")\n",
    "    print(dfM[columna].unique())\n",
    "    print(\"\\n\")"
   ]
  },
  {
   "cell_type": "markdown",
   "metadata": {},
   "source": [
    "**Para explorar mejor la tabla y verificar si los tipos de datos están bien, vemos cuantos datos distintos tiene cada columna  y buscamos candidatos para category**"
   ]
  },
  {
   "cell_type": "code",
   "execution_count": null,
   "metadata": {},
   "outputs": [],
   "source": [
    "\"\"\"datafram sobre el que trabajamos:\"\"\" \n",
    "\"\"\"trabajamos sobre el dfP\"\"\" \n",
    "dfn= dfP\n",
    "\n",
    "\"\"\"creamos un df del numero de valores unicos de cada columna\"\"\" \n",
    "lista_columnas_dfn= dfn.columns\n",
    "dicc_acumulado=[]\n",
    "for columna in lista_columnas_dfn: \n",
    "    dict_nunique_dfn={ \n",
    "        \"Columna\" : columna,\n",
    "        \"Número de valores únicos\" : dfn[columna].nunique()}\n",
    "    dicc_acumulado.append(dict_nunique_dfn) \n",
    "\n",
    "df_nunique_dfn=pd.DataFrame(dicc_acumulado)\n",
    "df_nunique_dfn.head(len(df_nunique_dfn))"
   ]
  },
  {
   "cell_type": "code",
   "execution_count": null,
   "metadata": {},
   "outputs": [],
   "source": [
    "\"\"\"trabajamos sobre df1\"\"\" \n",
    "dfn= df1\n",
    "\n",
    "\"\"\"creamos un df del numero de valores unicos de cada columna\"\"\" \n",
    "lista_columnas_dfn= dfn.columns\n",
    "dicc_acumulado=[]\n",
    "for columna in lista_columnas_dfn: \n",
    "    dict_nunique_dfn={ \n",
    "        \"Columna\" : columna,\n",
    "        \"Número de valores únicos\" : dfn[columna].nunique()}\n",
    "    dicc_acumulado.append(dict_nunique_dfn) \n",
    "\n",
    "df_nunique_dfn=pd.DataFrame(dicc_acumulado)\n",
    "df_nunique_dfn.head(len(df_nunique_dfn))"
   ]
  },
  {
   "cell_type": "code",
   "execution_count": null,
   "metadata": {},
   "outputs": [],
   "source": [
    "\"\"\"trabajamos sobre df2\"\"\" \n",
    "dfn= df2\n",
    "\n",
    "\"\"\"creamos un df del numero de valores unicos de cada columna\"\"\" \n",
    "lista_columnas_dfn= dfn.columns\n",
    "dicc_acumulado=[]\n",
    "for columna in lista_columnas_dfn: \n",
    "    dict_nunique_dfn={ \n",
    "        \"Columna\" : columna,\n",
    "        \"Número de valores únicos\" : dfn[columna].nunique()}\n",
    "    dicc_acumulado.append(dict_nunique_dfn) \n",
    "\n",
    "df_nunique_dfn=pd.DataFrame(dicc_acumulado)\n",
    "df_nunique_dfn.head(len(df_nunique_dfn))"
   ]
  },
  {
   "cell_type": "code",
   "execution_count": null,
   "metadata": {},
   "outputs": [],
   "source": [
    "\"\"\"trabajamos sobre dfM\"\"\" \n",
    "dfn= dfM\n",
    "\n",
    "\"\"\"creamos un df del numero de valores unicos de cada columna\"\"\" \n",
    "lista_columnas_dfn= dfn.columns\n",
    "dicc_acumulado=[]\n",
    "for columna in lista_columnas_dfn: \n",
    "    dict_nunique_dfn={ \n",
    "        \"Columna\" : columna,\n",
    "        \"Número de valores únicos\" : dfn[columna].nunique()}\n",
    "    dicc_acumulado.append(dict_nunique_dfn) \n",
    "\n",
    "df_nunique_dfn=pd.DataFrame(dicc_acumulado)\n",
    "df_nunique_dfn.head(len(df_nunique_dfn))"
   ]
  },
  {
   "cell_type": "code",
   "execution_count": null,
   "metadata": {},
   "outputs": [],
   "source": [
    "#Conclusión: No se observan valores extraños en ninguna columna de los dataframes"
   ]
  },
  {
   "cell_type": "markdown",
   "metadata": {},
   "source": [
    "**Transformación de datos a category**"
   ]
  },
  {
   "cell_type": "code",
   "execution_count": null,
   "metadata": {},
   "outputs": [],
   "source": [
    "dfP.head(2)"
   ]
  },
  {
   "cell_type": "code",
   "execution_count": null,
   "metadata": {},
   "outputs": [],
   "source": [
    "\"\"\"info de dfP\"\"\" \n",
    "dfP.info()"
   ]
  },
  {
   "cell_type": "code",
   "execution_count": null,
   "metadata": {},
   "outputs": [],
   "source": [
    "\"\"\"datafram sobre el que trabajamos:\"\"\" \n",
    "\"\"\"trabajamos sobre el dfP\"\"\" \n",
    "dfn= dfP\n",
    "\n",
    "\"\"\"Convertimos las columnas categóricas a tipo 'category'\"\"\"\n",
    "lista_columnas=[\n",
    "    \"DV_RBD\",\n",
    "    \"DS_TIPO_DEPENDENCIA\",\n",
    "    \"DS_RURALIDAD\",\n",
    "    \"ID_REGION_ESTABLE\",\n",
    "    \"ID_PROVINCIA_ESTABLE\",\n",
    "    \"ID_COMUNA_ESTABLE\",\n",
    "    \"DS_COMUNA_ESTABLE\"\n",
    "]\n",
    "for columna in lista_columnas:\n",
    "    dfn[columna] = dfn[columna].astype(\"category\")\n",
    "dfn.info()"
   ]
  },
  {
   "cell_type": "code",
   "execution_count": null,
   "metadata": {},
   "outputs": [],
   "source": [
    "\"\"\"trabajamos sobre el df1\"\"\" \n",
    "dfn= df1\n",
    "\n",
    "\"\"\"Convertimos las columnas categóricas a tipo 'category'\"\"\"\n",
    "lista_columnas=[\n",
    "    \"DV_RBD\",\n",
    "    \"DS_TIPO_DEPENDENCIA\",\n",
    "    \"DS_RURALIDAD\",\n",
    "    \"ID_REGION_ESTABLE\",\n",
    "    \"ID_PROVINCIA_ESTABLE\",\n",
    "    \"ID_COMUNA_ESTABLE\",\n",
    "    \"DS_COMUNA_ESTABLE\"\n",
    "]\n",
    "for columna in lista_columnas:\n",
    "    dfn[columna] = dfn[columna].astype(\"category\")\n",
    "dfn.info()"
   ]
  },
  {
   "cell_type": "code",
   "execution_count": null,
   "metadata": {},
   "outputs": [],
   "source": [
    "\"\"\"info de df2\"\"\" \n",
    "df2.info()"
   ]
  },
  {
   "cell_type": "code",
   "execution_count": null,
   "metadata": {},
   "outputs": [],
   "source": [
    "\"\"\"trabajamos sobre el df2\"\"\" \n",
    "dfn= df2\n",
    "\n",
    "\"\"\"Convertimos las columnas categóricas a tipo 'category'\"\"\"\n",
    "lista_columnas=[\n",
    "    \"DV_RBD\",\n",
    "    \"DS_TIPO_DEPENDENCIA\",\n",
    "    \"DS_RURALIDAD\",\n",
    "    \"ID_REGION_ESTABLE\",\n",
    "    \"ID_PROVINCIA_ESTABLE\",\n",
    "    \"ID_COMUNA_ESTABLE\",\n",
    "    \"DS_COMUNA_ESTABLE\"\n",
    "]\n",
    "for columna in lista_columnas:\n",
    "    dfn[columna] = dfn[columna].astype(\"category\")\n",
    "dfn.info()"
   ]
  },
  {
   "cell_type": "code",
   "execution_count": null,
   "metadata": {},
   "outputs": [],
   "source": [
    "\"\"\"info de dfM\"\"\" \n",
    "dfM.info()"
   ]
  },
  {
   "cell_type": "code",
   "execution_count": null,
   "metadata": {},
   "outputs": [],
   "source": [
    "\"\"\"trabajamos sobre el dfM\"\"\" \n",
    "dfn= dfM\n",
    "\n",
    "\"\"\"Convertimos las columnas categóricas a tipo 'category'\"\"\"\n",
    "lista_columnas=[\n",
    "    \"DV_RBD\",\n",
    "    \"DS_TIPO_DEPENDENCIA\",\n",
    "    \"DS_RURALIDAD\",\n",
    "    \"ID_REGION_ESTABLE\",\n",
    "    \"ID_PROVINCIA_ESTABLE\",\n",
    "    \"ID_COMUNA_ESTABLE\",\n",
    "    \"DS_COMUNA_ESTABLE\"\n",
    "]\n",
    "for columna in lista_columnas:\n",
    "    dfn[columna] = dfn[columna].astype(\"category\")\n",
    "dfn.info()"
   ]
  },
  {
   "cell_type": "markdown",
   "metadata": {},
   "source": [
    "Aqui hicimos la transformacion porque estas columnas enlistadas \n",
    "`lista_columnas=[\"DV_RBD\", \"DS_TIPO_DEPENDENCIA\", \"DS_RURALIDAD\", \"ID_REGION_ESTABLE\",\"ID_PROVINCIA_ESTABLE\",\"ID_COMUNA_ESTABLE\",\"DS_COMUNA_ESTABLE\"]`\n",
    "se comportan mas bien como categorias que como nombres o strings, debido a que tienen pocos valores únicos comparado con el total de filas y para esto establecimos una regla del 5%, (es decir , consideramos que es categorico si los valores son menos del 5 % del tamaño total del DataFrame), entonces como el DF tiene aprox 6000 filas, entonces ~300 valores unicos es razonable establecerlo como category \n",
    "\n",
    "\n",
    "\n"
   ]
  },
  {
   "cell_type": "markdown",
   "metadata": {},
   "source": [
    "**Renombramos Columnas**"
   ]
  },
  {
   "cell_type": "code",
   "execution_count": null,
   "metadata": {},
   "outputs": [],
   "source": [
    "\"\"\"trabajamos sobre dfP\"\"\"\n",
    "dfn=dfP\n",
    "dfn.rename(columns={\"N EVALUADO\":\"N_EVALUADO\"})"
   ]
  },
  {
   "cell_type": "code",
   "execution_count": null,
   "metadata": {},
   "outputs": [],
   "source": [
    "\"\"\"trabajamos sobre df1\"\"\"\n",
    "dfn=df1\n",
    "dfn.rename(columns={\"N EVALUADO\":\"N_EVALUADO\"})"
   ]
  },
  {
   "cell_type": "code",
   "execution_count": null,
   "metadata": {},
   "outputs": [],
   "source": [
    "\"\"\"trabajamos sobre df2\"\"\"\n",
    "dfn=df2\n",
    "dfn.rename(columns={\"N EVALUADO\":\"N_EVALUADO\"})"
   ]
  },
  {
   "cell_type": "code",
   "execution_count": null,
   "metadata": {},
   "outputs": [],
   "source": [
    "\"\"\"trabajamos sobre dfM\"\"\"\n",
    "dfn=dfM\n",
    "dfn.rename(columns={\"N EVALUADO\":\"N_EVALUADO\"})"
   ]
  },
  {
   "cell_type": "markdown",
   "metadata": {},
   "source": [
    "---"
   ]
  },
  {
   "cell_type": "code",
   "execution_count": null,
   "metadata": {},
   "outputs": [],
   "source": [
    "#Calculo espacio memoria con deep true\n",
    "total = (\n",
    "    dfP.memory_usage(deep=True).sum() +\n",
    "    df1.memory_usage(deep=True).sum() +\n",
    "    df2.memory_usage(deep=True).sum() +\n",
    "    dfM.memory_usage(deep=True).sum()\n",
    ")\n",
    "\n",
    "print(\"Total:\", round(total / (1024**2),3) , \"MB\")"
   ]
  },
  {
   "cell_type": "code",
   "execution_count": null,
   "metadata": {},
   "outputs": [],
   "source": [
    "print(dfP[\"N EVALUADO\"].sum())\n",
    "print(df1[\"N EVALUADO\"].sum() )\n",
    "print(df2[\"N EVALUADO\"].sum()) \n",
    "print(dfM[\"N EVALUADO\"].sum())"
   ]
  },
  {
   "cell_type": "markdown",
   "metadata": {},
   "source": [
    "**RESPUESTA**\n",
    "* a. ¿Cuántos establecimientos tiene cada set de datos?\n",
    "* b. ¿Cuánto espacio en memoria ocupan en total los 4 datasets?\n",
    "* c. ¿Cuántos estudiantes fueron evaluados en todo el país para cada nivel de enseñanza para el año 2025?"
   ]
  },
  {
   "cell_type": "markdown",
   "metadata": {},
   "source": [
    "a. \n",
    "Establecimiento por nivel/dataset\n",
    "- Parvularia = 5773\n",
    "- 1Basico= 6530\n",
    "- 2Basico= 5244\n",
    "- Media = 2490\n",
    "\n",
    "b. \n",
    "Cantidad de Memoria\n",
    "- Total: 3.896 MB con deep=true, estimación más real\n",
    "\n",
    "c. \n",
    "Cantidad total de estudiantes\n",
    "- Parvularia = 255506\n",
    "- 1Basico= 882881\n",
    "- 2Basico= 484540\n",
    "- Media = 901899 \n",
    "\n",
    "\n",
    "\n",
    "\n"
   ]
  },
  {
   "cell_type": "markdown",
   "metadata": {},
   "source": [
    "---"
   ]
  },
  {
   "cell_type": "markdown",
   "metadata": {},
   "source": [
    "# <h1><center>Respuesta 3.2 Datos geográficos (0.5 puntos) </center></h1>\n"
   ]
  },
  {
   "cell_type": "code",
   "execution_count": null,
   "metadata": {},
   "outputs": [],
   "source": [
    "import geopandas as gpd\n",
    "gdf_comunas = gpd.read_file(\"zip://comunas.zip\")\n",
    "print(gdf_comunas.crs)\n",
    "gdf_comunas=gdf_comunas.to_crs(epsg=4326)\n",
    "print(gdf_comunas.crs)\n"
   ]
  },
  {
   "cell_type": "code",
   "execution_count": null,
   "metadata": {},
   "outputs": [],
   "source": [
    "#Visualizamos las columnas de poligono\n",
    "gdf_comunas.head(2)\n"
   ]
  },
  {
   "cell_type": "code",
   "execution_count": null,
   "metadata": {},
   "outputs": [],
   "source": [
    "gdf_comunas.plot(figsize=(6,8))"
   ]
  },
  {
   "cell_type": "markdown",
   "metadata": {},
   "source": [
    "---"
   ]
  },
  {
   "cell_type": "markdown",
   "metadata": {},
   "source": [
    "## <h1><center>Ruralidad (0.8 pts) </center></h1>\n",
    "## <h1><center> 4.1.a. ¿Cuál es la cantidad de establecimientos rurales vs urbanos según nivel de enseñanza?</center></h1>\n",
    "\n",
    "\n",
    "\n",
    "\n",
    "\n",
    "\n",
    "\n"
   ]
  },
  {
   "cell_type": "markdown",
   "metadata": {},
   "source": [
    "# <h1><center>Parvularia </center></h1>"
   ]
  },
  {
   "cell_type": "code",
   "execution_count": null,
   "metadata": {},
   "outputs": [],
   "source": [
    "dfP.head(2)"
   ]
  },
  {
   "cell_type": "code",
   "execution_count": null,
   "metadata": {},
   "outputs": [],
   "source": [
    "lista_df= [dfP, df1, df2, dfM]\n",
    "lista_nombres= [\"Parvularia\", \"1º Ciclo Básico\", \"2º Ciclo Básico\", \"Media\"]\n",
    "\n",
    "¿Cuál es la cantidad de establecimientos rurales vs urbanos según nivel de enseñanza?\n"
   ]
  },
  {
   "cell_type": "code",
   "execution_count": null,
   "metadata": {},
   "outputs": [],
   "source": [
    "\"\"\"datafram sobre el que trabajamos:\"\"\" \n",
    "\"\"\"trabajamos sobre el dfP\"\"\" \n",
    "dfn= dfP\n",
    "\n",
    "\"\"\"creamos un df del numero de valores unicos de cada columna\"\"\" \n",
    "lista_columnas_dfn= dfn.columns\n",
    "dicc_acumulado=[]\n",
    "for columna in lista_columnas_dfn: \n",
    "    dict_nunique_dfn={ \n",
    "        \"Columna\" : columna,\n",
    "        \"Número de valores únicos\" : dfn[columna].nunique()}    #hay que sacar esto, porque todos son valores unicos\n",
    "    dicc_acumulado.append(dict_nunique_dfn) \n",
    "\n",
    "df_nunique_dfn=pd.DataFrame(dicc_acumulado)\n",
    "df_nunique_dfn.head(len(df_nunique_dfn))\n",
    "\n"
   ]
  },
  {
   "cell_type": "code",
   "execution_count": null,
   "metadata": {},
   "outputs": [],
   "source": [
    "import matplotlib.pyplot as plt\n",
    "\n",
    "dfP[\"DS_NOM_ESTABLE\"].duplicated().sum()"
   ]
  },
  {
   "cell_type": "code",
   "execution_count": null,
   "metadata": {},
   "outputs": [],
   "source": [
    "#elimino los establecimientos duplicados\n",
    "dfP = dfP.drop_duplicates(subset=\"DS_NOM_ESTABLE\")\n",
    "dfP[\"DS_NOM_ESTABLE\"].duplicated().sum()"
   ]
  },
  {
   "cell_type": "code",
   "execution_count": null,
   "metadata": {},
   "outputs": [],
   "source": [
    "dfP.info()"
   ]
  },
  {
   "cell_type": "code",
   "execution_count": null,
   "metadata": {},
   "outputs": [],
   "source": [
    "#agrupo \n",
    "dfP.groupby(\"DS_RURALIDAD\")[\"DS_NOM_ESTABLE\"].count()"
   ]
  },
  {
   "cell_type": "code",
   "execution_count": null,
   "metadata": {},
   "outputs": [],
   "source": [
    "datos1= dfP.groupby(\"DS_RURALIDAD\")[\"DS_NOM_ESTABLE\"].count()\n",
    "\n",
    "\n",
    "datos1.plot(kind=\"bar\", title=\"Cantidad de establecimientos por ruralidad - Parvularia\")"
   ]
  },
  {
   "cell_type": "markdown",
   "metadata": {},
   "source": [
    "# <h1><center>1º Ciclo Básico </center></h1>"
   ]
  },
  {
   "cell_type": "code",
   "execution_count": null,
   "metadata": {},
   "outputs": [],
   "source": [
    "#Elijo el nivel de enseñanza\n",
    "dfn= df1\n",
    "\n",
    "#Numero total de filas\n",
    "len(dfn)\n",
    "\n",
    "\"\"\"#Valores Unicos de la columna DS_NOM_ESTABLE \n",
    "dfn[\"DS_NOM_ESTABLE\"].nunique()\n",
    "\n",
    "#checkeo cantidad de establecimientos duplicados\n",
    "dfn[\"DS_NOM_ESTABLE\"].duplicated().sum()\"\"\"\n",
    " \n",
    "\n",
    "#verifico que se eliminaron\n",
    "dfn[\"DS_NOM_ESTABLE\"].duplicated().sum()\n",
    "\n",
    "#Agrupo por ruralidad\n",
    "datos2= dfn.groupby(\"DS_RURALIDAD\")[\"DS_NOM_ESTABLE\"].count()\n",
    "\n",
    "#ploteo\n",
    "datos2.plot(kind='bar', title='Cantidad de establecimientos urbanos vs rurales-')\n",
    "plt.xlabel('Ruralidad')\n",
    "plt.ylabel('Número de establecimientos')\n",
    "plt.show()\n"
   ]
  },
  {
   "cell_type": "markdown",
   "metadata": {},
   "source": [
    "# <h1><center>2º Ciclo Básico </center></h1>"
   ]
  },
  {
   "cell_type": "code",
   "execution_count": null,
   "metadata": {},
   "outputs": [],
   "source": [
    "#Elijo el nivel de enseñanza\n",
    "dfn= df2\n",
    "\n",
    "#Numero total de filas\n",
    "len(dfn)\n",
    "\n",
    "#Valores Unicos de la columna DS_NOM_ESTABLE \n",
    "dfn[\"DS_NOM_ESTABLE\"].nunique()\n",
    "\n",
    "\"\"\"#Valores Unicos de la columna DS_NOM_ESTABLE \n",
    "dfn[\"DS_NOM_ESTABLE\"].nunique()\n",
    "\n",
    "#checkeo cantidad de establecimientos duplicados\n",
    "dfn[\"DS_NOM_ESTABLE\"].duplicated().sum()\"\"\"\n",
    "\n",
    "#verifico que se eliminaron\n",
    "dfn[\"DS_NOM_ESTABLE\"].duplicated().sum()\n",
    "\n",
    "#Agrupo por ruralidad\n",
    "datos3= dfn.groupby(\"DS_RURALIDAD\")[\"DS_NOM_ESTABLE\"].count()\n",
    "\n",
    "#ploteo\n",
    "datos3.plot(kind='bar', title='Cantidad de establecimientos urbanos vs rurales-')\n",
    "plt.xlabel('Ruralidad')\n",
    "plt.ylabel('Número de establecimientos')\n",
    "plt.show()"
   ]
  },
  {
   "cell_type": "markdown",
   "metadata": {},
   "source": [
    "# <h1><center>Media </center></h1>"
   ]
  },
  {
   "cell_type": "code",
   "execution_count": null,
   "metadata": {},
   "outputs": [],
   "source": [
    "#Elijo el nivel de enseñanza\n",
    "dfn= dfM\n",
    "\n",
    "#Numero total de filas\n",
    "len(dfn)\n",
    "\n",
    "#Valores Unicos de la columna DS_NOM_ESTABLE \n",
    "dfn[\"DS_NOM_ESTABLE\"].nunique()\n",
    "\n",
    "#checkeo cantidad de establecimientos duplicados\n",
    "dfn[\"DS_NOM_ESTABLE\"].duplicated().sum()\n",
    "\n",
    "#elimino establecimientos duplicados\n",
    "dfn = dfn.drop_duplicates(subset=\"DS_NOM_ESTABLE\")\n",
    "\n",
    "#verifico que se eliminaron\n",
    "dfn[\"DS_NOM_ESTABLE\"].duplicated().sum()\n",
    "\n",
    "#Agrupo por ruralidad\n",
    "datos4= dfn.groupby(\"DS_RURALIDAD\")[\"DS_NOM_ESTABLE\"].count()\n",
    "\n",
    "#ploteo\n",
    "datos4.plot(kind='bar', title='Cantidad de establecimientos urbanos vs rurales-')\n",
    "plt.xlabel('Ruralidad')\n",
    "plt.ylabel('Número de establecimientos')\n",
    "plt.show()"
   ]
  },
  {
   "cell_type": "markdown",
   "metadata": {},
   "source": [
    "# <h1><center> GRAFICA ACUMULADA</center></h1>"
   ]
  },
  {
   "cell_type": "code",
   "execution_count": null,
   "metadata": {},
   "outputs": [],
   "source": [
    "#Uso el subplot\n",
    "\n",
    "fig, axes = plt.subplots(4, 1, figsize=(8, 12))  # (filas, columnas)\n",
    "\n",
    "# 1️⃣ Primer gráfico\n",
    "datos1.plot(kind='bar', ax=axes[0], color='skyblue')\n",
    "axes[0].set_title('Establecimientos rural vs urbano PARVULARIA')\n",
    "axes[0].set_xlabel('')\n",
    "axes[0].set_ylabel('Cantidad')\n",
    "\n",
    "# 2️⃣ Segundo gráfico (ejemplo con otra variable)\n",
    "datos2.plot(kind='bar', ax=axes[1], color='salmon')\n",
    "axes[1].set_title('Establecimientos rural vs urbano 1 CICLO')\n",
    "axes[1].set_xlabel('')\n",
    "axes[1].set_ylabel('Cantidad')\n",
    "\n",
    "# 3️⃣ Tercer gráfico\n",
    "datos3.plot(kind='bar', ax=axes[2], color='lightgreen')\n",
    "axes[2].set_title('Establecimientos rural vs urbano 2CICLO')\n",
    "axes[2].set_xlabel('')\n",
    "axes[2].set_ylabel('Cantidad')\n",
    "\n",
    "# 4️⃣ Cuarto gráfico\n",
    "datos4.plot(kind='bar', ax=axes[3], color='plum')\n",
    "axes[3].set_title('Establecimientos rural vs urbano MEDIA')\n",
    "axes[3].set_xlabel('')\n",
    "axes[3].set_ylabel('Cantidad')\n",
    "\n",
    "plt.tight_layout()  # ajusta el espacio entre subplots\n",
    "plt.show()"
   ]
  },
  {
   "cell_type": "markdown",
   "metadata": {},
   "source": [
    "**ANALISIS DEL GRAFICO Y RESPUESTA :**\n",
    "\n",
    "Podemos observar que el porcentaje de establecimientos rurales en la media son bajisimos\n",
    "en cambio en el primer ciclo se parecen\n"
   ]
  },
  {
   "cell_type": "markdown",
   "metadata": {},
   "source": []
  },
  {
   "cell_type": "markdown",
   "metadata": {},
   "source": [
    "---\n"
   ]
  },
  {
   "cell_type": "markdown",
   "metadata": {},
   "source": [
    "\n",
    "# <h1><center> 4.b. ¿Cómo se distribuye el IVM según nivel de enseñanza y ruralidad?</center></h1>\n"
   ]
  },
  {
   "cell_type": "markdown",
   "metadata": {},
   "source": [
    "# <h1><center>Parvularia </center></h1>"
   ]
  },
  {
   "cell_type": "code",
   "execution_count": null,
   "metadata": {},
   "outputs": [],
   "source": [
    "#elijo el df\n",
    "dfn=dfP\n",
    "\n",
    "dfn.groupby([\"DS_RURALIDAD\"])[\"IVM Establecimiento\"].describe()"
   ]
  },
  {
   "cell_type": "markdown",
   "metadata": {},
   "source": [
    "# <h1><center>1º Ciclo Básico </center></h1>"
   ]
  },
  {
   "cell_type": "code",
   "execution_count": null,
   "metadata": {},
   "outputs": [],
   "source": [
    "dfP.info()\n",
    "\n"
   ]
  },
  {
   "cell_type": "code",
   "execution_count": null,
   "metadata": {},
   "outputs": [],
   "source": [
    "df1.info()\n"
   ]
  },
  {
   "cell_type": "code",
   "execution_count": null,
   "metadata": {},
   "outputs": [],
   "source": [
    "df2.info()"
   ]
  },
  {
   "cell_type": "code",
   "execution_count": null,
   "metadata": {},
   "outputs": [],
   "source": [
    "\n",
    "dfM.info()"
   ]
  },
  {
   "cell_type": "code",
   "execution_count": null,
   "metadata": {},
   "outputs": [],
   "source": [
    "#elijo el df\n",
    "dfn=df1\n",
    "\n",
    "dfn.groupby([\"DS_RURALIDAD\"])[\"IVM Establecimiento\"].describe()"
   ]
  },
  {
   "cell_type": "code",
   "execution_count": null,
   "metadata": {},
   "outputs": [],
   "source": [
    "#elijo el df\n",
    "dfn=df2\n",
    "\n",
    "dfn.groupby([\"DS_RURALIDAD\"])[\"IVM Establecimiento\"].describe()"
   ]
  },
  {
   "cell_type": "code",
   "execution_count": null,
   "metadata": {},
   "outputs": [],
   "source": [
    "#elijo el df\n",
    "dfn=dfM\n",
    "\n",
    "dfn.groupby([\"DS_RURALIDAD\"])[\"IVM Establecimiento\"].describe()"
   ]
  },
  {
   "cell_type": "markdown",
   "metadata": {},
   "source": [
    "---"
   ]
  },
  {
   "cell_type": "markdown",
   "metadata": {},
   "source": [
    "\n",
    "**1. Análisis de distribución entre niveles de enseñanza (por ejemplo, ver si Parvularia tiene IVM más alto que Media).**"
   ]
  },
  {
   "cell_type": "markdown",
   "metadata": {},
   "source": [
    "¿¿ te interesa ajustar por el tamaño del establecimiento:??"
   ]
  },
  {
   "cell_type": "code",
   "execution_count": null,
   "metadata": {},
   "outputs": [],
   "source": [
    "\n",
    "# Lista de tuplas (DataFrame, nombre del nivel)\n",
    "niveles = [\n",
    "    (dfP, \"Parvularia\"),\n",
    "    (df1, \"1° Ciclo Básico\"),\n",
    "    (df2, \"2° Ciclo Básico\"),\n",
    "    (dfM, \"Media\")\n",
    "]\n",
    "\n",
    "# Calcular estadísticas descriptivas del IVM para cada nivel\n",
    "resumenes = []\n",
    "for df, nombre in niveles:\n",
    "    desc = df[\"IVM Establecimiento\"].describe().to_dict()\n",
    "    desc[\"Nivel\"] = nombre\n",
    "    resumenes.append(desc)\n",
    "\n",
    "# Convertir a DataFrame ordenado\n",
    "df_resumen = pd.DataFrame(resumenes).set_index(\"Nivel\")[[\"count\",\"mean\",\"std\",\"min\",\"25%\",\"50%\",\"75%\",\"max\"]]\n",
    "df_resumen = df_resumen.round(2)\n",
    "\n",
    "# Mostrar tabla final\n",
    "display(df_resumen)\n",
    "\n",
    "\n"
   ]
  },
  {
   "cell_type": "code",
   "execution_count": null,
   "metadata": {},
   "outputs": [],
   "source": [
    "plt.figure(figsize=(6,4))\n",
    "plt.bar(df_resumen.index, df_resumen[\"mean\"], color=\"skyblue\")\n",
    "plt.title(\"Promedio del IVM por Nivel de Enseñanza\")\n",
    "plt.xlabel(\"Nivel\")\n",
    "plt.ylabel(\"IVM promedio\")\n",
    "plt.xticks(rotation=15)\n",
    "plt.grid(axis=\"y\", linestyle=\"--\", alpha=0.5)\n",
    "plt.show()"
   ]
  },
  {
   "cell_type": "code",
   "execution_count": null,
   "metadata": {},
   "outputs": [],
   "source": [
    "import matplotlib.pyplot as plt\n",
    "\n",
    "# df_resumen index = Nivel\n",
    "# columnas: ['count','mean','std','min','25%','50%','75%','max']\n",
    "\n",
    "# 1) Armar la estructura que usa matplotlib.bxp\n",
    "bxp_stats = []\n",
    "for nivel, row in df_resumen.iterrows():\n",
    "    bxp_stats.append({\n",
    "        'label' : nivel,\n",
    "        'whislo': row['min'],   # mínimo\n",
    "        'q1'    : row['25%'],   # percentil 25\n",
    "        'med'   : row['50%'],   # mediana\n",
    "        'q3'    : row['75%'],   # percentil 75\n",
    "        'whishi': row['max'],   # máximo\n",
    "        'fliers': []            # sin outliers (no los tenemos)\n",
    "    })\n",
    "\n",
    "# 2) Graficar\n",
    "fig, ax = plt.subplots(figsize=(8,5))\n",
    "ax.bxp(bxp_stats, showfliers=False)\n",
    "ax.set_title('IVM por nivel (min–P25–P50–P75–max)')\n",
    "ax.set_xlabel('Nivel')\n",
    "ax.set_ylabel('IVM Establecimiento')\n",
    "ax.grid(axis='y', linestyle='--', alpha=0.4)\n",
    "plt.xticks(rotation=15)\n",
    "plt.show()"
   ]
  },
  {
   "cell_type": "markdown",
   "metadata": {},
   "source": [
    "Los resultados muestran una clara disminución del IVM a medida que aumenta el nivel educativo.\n",
    "La educación parvularia concentra los establecimientos con mayor vulnerabilidad, mientras que la educación media presenta los niveles más bajos.\n",
    "Esto sugiere que las brechas socioeducativas son más pronunciadas en la primera infancia, y que las condiciones tienden a mejorar (o estabilizarse) en niveles superiores."
   ]
  },
  {
   "cell_type": "markdown",
   "metadata": {},
   "source": [
    "A medida que avanza el nivel educativo (desde Parvularia hasta Media), el IVM disminuye progresivamente. Esto sugiere que la vulnerabilidad social y educativa tiende a concentrarse en los niveles iniciales (educación parvularia), especialmente en la primera infancia."
   ]
  },
  {
   "cell_type": "markdown",
   "metadata": {},
   "source": [
    "---\n"
   ]
  },
  {
   "cell_type": "markdown",
   "metadata": {},
   "source": [
    "**2. Análisis de distribución de IVM por ruralidad**"
   ]
  },
  {
   "cell_type": "markdown",
   "metadata": {},
   "source": []
  },
  {
   "cell_type": "code",
   "execution_count": null,
   "metadata": {},
   "outputs": [],
   "source": [
    "def add_level(df, nivel):\n",
    "    cols = ['DS_RURALIDAD', 'IVM Establecimiento', 'N EVALUADO', 'ID_RBD']\n",
    "    out = df[cols].copy()\n",
    "    out['Nivel'] = nivel\n",
    "    return out\n",
    "\n",
    "dfall = pd.concat([\n",
    "    add_level(dfP, 'Parvularia'),\n",
    "    add_level(df1, '1° Ciclo Básico'),\n",
    "    add_level(df2, '2° Ciclo Básico'),\n",
    "    add_level(dfM, 'Media')\n",
    "], ignore_index=True)"
   ]
  },
  {
   "cell_type": "code",
   "execution_count": null,
   "metadata": {},
   "outputs": [],
   "source": [
    "import matplotlib.pyplot as plt\n",
    " \n",
    "# 1️⃣ Unir todos los niveles\n",
    "dfP['Nivel'] = 'Parvularia'\n",
    "df1['Nivel'] = '1° Ciclo Básico'\n",
    "df2['Nivel'] = '2° Ciclo Básico'\n",
    "dfM['Nivel'] = 'Media'\n",
    "\n",
    "df_all = pd.concat([dfP, df1, df2, dfM], ignore_index=True)\n",
    "\n",
    "# 2️⃣ Resumir: promedio de IVM por nivel y ruralidad\n",
    "resumen = (\n",
    "    df_all.groupby(['Nivel', 'DS_RURALIDAD'])['IVM Establecimiento']\n",
    "    .mean()\n",
    "    .reset_index()\n",
    "    .sort_values(['Nivel', 'DS_RURALIDAD'])\n",
    ")\n",
    "print(resumen)\n",
    "\n",
    "# 3️⃣ Graficar boxplot\n",
    "plt.figure(figsize=(8,5))\n",
    "df_all.boxplot(column='IVM Establecimiento', by=['Nivel', 'DS_RURALIDAD'], grid=False)\n",
    "plt.title('Distribución del IVM por Nivel y Ruralidad')\n",
    "plt.suptitle('')\n",
    "plt.ylabel('IVM Establecimiento')\n",
    "plt.xticks(rotation=45)\n",
    "plt.show()"
   ]
  },
  {
   "cell_type": "markdown",
   "metadata": {},
   "source": [
    "En general, los establecimientos Parvularios Rurales presentan el IVM más alto (61 puntos), superando a sus pares urbanos (54 puntos).\n",
    "En los demás niveles (Básica y Media) las diferencias entre rural y urbano son pequeñas o invertidas, con valores levemente menores en el sector rural.\n",
    "Esto sugiere que la vulnerabilidad es más pronunciada en la educación inicial rural, mientras que en los niveles superiores la brecha rural-urbana tiende a desaparecer o incluso revertirse"
   ]
  },
  {
   "cell_type": "markdown",
   "metadata": {},
   "source": [
    "# <h1><center> 4.3 Pregunta Bono: Dimensiones de vulnerabilidad</center></h1>\n"
   ]
  },
  {
   "cell_type": "markdown",
   "metadata": {},
   "source": [
    "# <h1><center>  5.1 Cálculo de IVM promedio por comuna (0.8 pts)</center></h1>\n"
   ]
  },
  {
   "cell_type": "markdown",
   "metadata": {},
   "source": [
    "- 5.1.2.a calcule el promedio de la columna `IVM Establecimiento` según comuna para cada nivel\n",
    "- 5.1.2.b calcule el promedio de la columna `IVM Establecimiento` según comuna para cada nivel\n",
    "- 5.1.2.c calcule el promedio de la columna `IVM Establecimiento` según comuna para cada nivel\n",
    "- 5.1.2.d calcule el promedio de la columna `IVM Establecimiento` según comuna para cada nivel\n",
    "\n"
   ]
  },
  {
   "cell_type": "markdown",
   "metadata": {},
   "source": [
    "- 5.1.3.a Crear columna `IVM Promedio {NIVEL DE ENSEÑANZA}`\n",
    "- 5.1.3.b Crear columna `IVM Promedio {NIVEL DE ENSEÑANZA}`\n",
    "- 5.1.3.c Crear columna `IVM Promedio {NIVEL DE ENSEÑANZA}`\n",
    "- 5.1.3.d Crear columna `IVM Promedio {NIVEL DE ENSEÑANZA}`"
   ]
  },
  {
   "cell_type": "markdown",
   "metadata": {},
   "source": [
    "- 5.1.4 Crear dataframe unificado llamado `ivm_comunal` con columnas indicadas\n",
    "* Comuna (nombre y ID)\n",
    "* Región (ID)\n",
    "* IVM Promedio Parvularia de la comuna\n",
    "* IVM Promedio Básica Primer Ciclo de la comuna\n",
    "* IVM Promedio Básica Segundo Ciclo de la comuna\n",
    "* IVM Promedio Media de la comuna\n"
   ]
  },
  {
   "cell_type": "code",
   "execution_count": null,
   "metadata": {},
   "outputs": [],
   "source": [
    "promP = (dfP.groupby(['ID_REGION_ESTABLE', 'ID_COMUNA_ESTABLE', 'DS_COMUNA_ESTABLE'])\n",
    "         ['IVM Establecimiento'].mean().reset_index()\n",
    "         .rename(columns={'IVM Establecimiento': 'IVM Promedio Parvularia'}))\n",
    "\n",
    "prom1 = (df1.groupby(['ID_REGION_ESTABLE', 'ID_COMUNA_ESTABLE', 'DS_COMUNA_ESTABLE'])\n",
    "         ['IVM Establecimiento'].mean().reset_index()\n",
    "         .rename(columns={'IVM Establecimiento': 'IVM Promedio Básica Primer Ciclo'}))\n",
    "\n",
    "prom2 = (df2.groupby(['ID_REGION_ESTABLE', 'ID_COMUNA_ESTABLE', 'DS_COMUNA_ESTABLE'])\n",
    "         ['IVM Establecimiento'].mean().reset_index()\n",
    "         .rename(columns={'IVM Establecimiento': 'IVM Promedio Básica Segundo Ciclo'}))\n",
    "\n",
    "promM = (dfM.groupby(['ID_REGION_ESTABLE', 'ID_COMUNA_ESTABLE', 'DS_COMUNA_ESTABLE'])\n",
    "         ['IVM Establecimiento'].mean().reset_index()\n",
    "         .rename(columns={'IVM Establecimiento': 'IVM Promedio Media'}))\n",
    "\n",
    "# 2️⃣ Unir los 4 resultados en un solo DataFrame\n",
    "ivm_comunal = (\n",
    "    promP.merge(prom1, on=['ID_REGION_ESTABLE', 'ID_COMUNA_ESTABLE', 'DS_COMUNA_ESTABLE'], how='outer')\n",
    "         .merge(prom2, on=['ID_REGION_ESTABLE', 'ID_COMUNA_ESTABLE', 'DS_COMUNA_ESTABLE'], how='outer')\n",
    "         .merge(promM, on=['ID_REGION_ESTABLE', 'ID_COMUNA_ESTABLE', 'DS_COMUNA_ESTABLE'], how='outer')\n",
    ")\n",
    "\n",
    "# 3️⃣ Mostrar resultado\n",
    "display(ivm_comunal.head())"
   ]
  },
  {
   "cell_type": "markdown",
   "metadata": {},
   "source": [
    "# <h1><center>  5.2 Establecimientos por comuna y ruralidad (0.8 pts) </center></h1>\n",
    "\n"
   ]
  },
  {
   "cell_type": "markdown",
   "metadata": {},
   "source": [
    "- 5.2.1 Crear dataframe unificado llamado `estab_comunal`  con columnas indicadas`\n",
    "- Contar la cantidad de establecimientos por comuna según ruralidad \n",
    "\n",
    "\n",
    "(Tenga en cuenta de que pueden aparecer establecimientos duplicados al combinar estos 4 DataFrames (por ejemplo, establecimientos que imparten múltiples niveles de enseñanza, desde 1º básico hasta 4º medio). Preocúpese de manejar estos casos antes de agrupar sus datos según ruralidad.)"
   ]
  },
  {
   "cell_type": "code",
   "execution_count": null,
   "metadata": {},
   "outputs": [],
   "source": [
    "# 1️⃣ Combinar los 4 DataFrames (todos los niveles)\n",
    "df_todos = pd.concat([dfP, df1, df2, dfM], ignore_index=True)\n",
    "\n",
    "# 2️⃣ Eliminar duplicados de establecimientos (por su ID único)\n",
    "# Esto evita contar varias veces el mismo colegio si aparece en más de un nivel\n",
    "df_todos = df_todos.drop_duplicates(subset=['ID_RBD'])\n",
    "\n",
    "# 3️⃣ Agrupar por comuna y ruralidad\n",
    "conteo = (df_todos.groupby(['ID_COMUNA_ESTABLE', 'DS_RURALIDAD'])\n",
    "                    ['ID_RBD'].nunique()\n",
    "                    .reset_index()\n",
    "                    .rename(columns={'ID_RBD': 'Cantidad_Establecimientos'}))\n",
    "\n",
    "# 4️⃣ Pivotear para tener columnas separadas: Rural / Urbano\n",
    "estab_comunal = (conteo.pivot(index='ID_COMUNA_ESTABLE', \n",
    "                              columns='DS_RURALIDAD', \n",
    "                              values='Cantidad_Establecimientos')\n",
    "                          .fillna(0)\n",
    "                          .reset_index())\n",
    "\n",
    "# 5️⃣ Renombrar columnas para mayor claridad\n",
    "estab_comunal = estab_comunal.rename(columns={\n",
    "    'Rural': 'Estab_Rurales',\n",
    "    'Urbano': 'Estab_Urbanos'\n",
    "})\n",
    "\n",
    "# 6️⃣ Calcular total y porcentaje rural\n",
    "estab_comunal['Total_Estab'] = estab_comunal['Estab_Rurales'] + estab_comunal['Estab_Urbanos']\n",
    "estab_comunal['Porcentaje_Rural'] = (estab_comunal['Estab_Rurales'] / estab_comunal['Total_Estab']) * 100\n",
    "\n",
    "# 7️⃣ (Opcional) ordenar por % rural\n",
    "estab_comunal = estab_comunal.sort_values('Porcentaje_Rural', ascending=False)\n",
    "\n",
    "# Mostrar resultado\n",
    "display(estab_comunal.head())\n"
   ]
  },
  {
   "cell_type": "markdown",
   "metadata": {},
   "source": [
    "# <h1><center>   5.3 Unión de bases de datos y polígonos (0.4 pts) </center></h1>\n",
    "\n"
   ]
  },
  {
   "cell_type": "markdown",
   "metadata": {},
   "source": [
    "- crear df agg comunal con dos previos dataframe y columnas indicadas\n",
    "- crear base de datos unificada con secciones anteriores\n",
    "- crear columna geometry de cada comuna"
   ]
  },
  {
   "cell_type": "code",
   "execution_count": null,
   "metadata": {},
   "outputs": [],
   "source": [
    "\n",
    "# ─────────────────────────────────────────────────────────────────────────────\n",
    "# 1) Normalizar claves de comuna (asegura tipos consistentes)\n",
    "# ─────────────────────────────────────────────────────────────────────────────\n",
    "for df in [ivm_comunal, estab_comunal]:\n",
    "    df['ID_COMUNA_ESTABLE'] = (df['ID_COMUNA_ESTABLE']\n",
    "                               .astype(str).str.strip())\n",
    "\n",
    "# ─────────────────────────────────────────────────────────────────────────────\n",
    "# 2) Unir métricas en un solo DataFrame 'agg_comunal' (sin geometría aún)\n",
    "# ─────────────────────────────────────────────────────────────────────────────\n",
    "cols_id = ['ID_REGION_ESTABLE', 'ID_COMUNA_ESTABLE', 'DS_COMUNA_ESTABLE']\n",
    "keep_cols_ivm = cols_id + [\n",
    "    'IVM Promedio Parvularia',\n",
    "    'IVM Promedio Básica Primer Ciclo',\n",
    "    'IVM Promedio Básica Segundo Ciclo',\n",
    "    'IVM Promedio Media'\n",
    "]\n",
    "base_ivm = ivm_comunal[keep_cols_ivm].copy()\n",
    "\n",
    "agg_comunal = (base_ivm\n",
    "               .merge(estab_comunal, on='ID_COMUNA_ESTABLE', how='outer'))\n",
    "\n",
    "# ─────────────────────────────────────────────────────────────────────────────\n",
    "# 3) Detectar la columna de ID de comuna en el GeoDataFrame y normalizar\n",
    "#    (ajusta a tu gdf real: prueba en este orden común de nombres en Chile)\n",
    "# ─────────────────────────────────────────────────────────────────────────────\n",
    "posibles_ids = ['ID_COMUNA', 'COD_COMUNA', 'CUT_COM', 'COMUNA', 'cod_comuna']\n",
    "id_geo = next((c for c in posibles_ids if c in gdf_comunas.columns), None)\n",
    "if id_geo is None:\n",
    "    raise ValueError(\"No encuentro la columna de ID de comuna en gdf_comunas. \"\n",
    "                     f\"Columnas disponibles: {list(gdf_comunas.columns)}\")\n",
    "\n",
    "gdf_tmp = gdf_comunas.copy()\n",
    "gdf_tmp[id_geo] = gdf_tmp[id_geo].astype(str).str.strip()\n",
    "\n",
    "# ─────────────────────────────────────────────────────────────────────────────\n",
    "# 4) Unir geometría (merge a la derecha desde el lado geográfico para cubrir todo el mapa)\n",
    "#    Si quieres mantener solo comunas con datos, usa how='inner'\n",
    "# ─────────────────────────────────────────────────────────────────────────────\n",
    "agg_comunal_geo = (gdf_tmp[[id_geo, 'geometry']]\n",
    "                   .merge(agg_comunal, left_on=id_geo, right_on='ID_COMUNA_ESTABLE', how='left'))\n",
    "\n",
    "# Convertir a GeoDataFrame final\n",
    "agg_comunal = gpd.GeoDataFrame(agg_comunal_geo, geometry='geometry', crs=gdf_tmp.crs)\n",
    "\n",
    "# ─────────────────────────────────────────────────────────────────────────────\n",
    "# 5) Chequeos útiles\n",
    "# ─────────────────────────────────────────────────────────────────────────────\n",
    "# Comunas del shape sin match en tus tablas (si hay NaN en IVM o conteos)\n",
    "faltantes = agg_comunal[agg_comunal['IVM Promedio Parvularia'].isna() &\n",
    "                        agg_comunal['Total_Estab'].isna()][[id_geo, 'geometry']]\n",
    "# display(faltantes.head())  # opcional\n",
    "\n",
    "# Ordenar y ver\n",
    "agg_comunal = agg_comunal.sort_values(['ID_REGION_ESTABLE', 'DS_COMUNA_ESTABLE'], na_position='last')\n",
    "# display(agg_comunal.head())\n",
    "\n",
    "# ─────────────────────────────────────────────────────────────────────────────\n",
    "# 6) (Opcional) Exportar para SIG o informe\n",
    "# ─────────────────────────────────────────────────────────────────────────────\n",
    "# agg_comunal.to_file('agg_comunal.geojson', driver='GeoJSON')\n",
    "# agg_comunal.to_file('agg_comunal.gpkg', driver='GPKG', layer='agg_comunal')\n"
   ]
  },
  {
   "cell_type": "code",
   "execution_count": null,
   "metadata": {},
   "outputs": [],
   "source": [
    "agg_comunal.sample(20)"
   ]
  },
  {
   "cell_type": "markdown",
   "metadata": {},
   "source": [
    "# <h1><center> 6.1 Mapa de calor (0.8 pts)  </center></h1>\n",
    "Análisis de vulnerabilidad por comuna\n",
    "\n",
    "- Genere mapas de calor de las comunas de Chile según el IVM promedio de los establecimientos educacionales(por nivel)\n",
    "- Genere mapas de calor de las comunas de Chile según el IVM promedio de los establecimientos educacionales(por nivel)\n",
    "- Genere mapas de calor de las comunas de Chile según el IVM promedio de los establecimientos educacionales(por nivel)\n",
    "- Genere mapas de calor de las comunas de Chile según el IVM promedio de los establecimientos educacionales(por nivel)\n",
    "- Analizar y comentar resultados\n",
    "- responder a pregunta ¿Cómo se diferencia la vulnerabilidad en distintos sectores del país según nivel de enseñanza?"
   ]
  },
  {
   "cell_type": "code",
   "execution_count": null,
   "metadata": {},
   "outputs": [],
   "source": [
    "gdf = agg_comunal.copy()\n",
    "\n",
    "fig, ax = plt.subplots(figsize=(8,10))\n",
    "gdf.plot(\n",
    "    column=\"IVM Promedio Parvularia\",\n",
    "    ax=ax,\n",
    "    legend=True,\n",
    "    cmap=\"OrRd\",\n",
    "    edgecolor=\"white\",\n",
    "    linewidth=0.2,\n",
    "    missing_kwds={\"color\":\"lightgrey\",\"edgecolor\":\"white\",\"hatch\":\"///\",\"label\":\"Sin datos\"},\n",
    ")\n",
    "ax.set_title(\"IVM promedio por comuna — Parvularia\")\n",
    "ax.set_axis_off()\n",
    "plt.tight_layout()\n",
    "plt.savefig(\"mapa_ivm_parvularia.png\", dpi=300)\n",
    "plt.show()\n"
   ]
  },
  {
   "cell_type": "code",
   "execution_count": null,
   "metadata": {},
   "outputs": [],
   "source": [
    "gdf = agg_comunal.copy()\n",
    "\n",
    "fig, ax = plt.subplots(figsize=(8,10))\n",
    "gdf.plot(\n",
    "    column=\"IVM Promedio Básica Primer Ciclo\",\n",
    "    ax=ax,\n",
    "    legend=True,\n",
    "    cmap=\"OrRd\",\n",
    "    edgecolor=\"white\",\n",
    "    linewidth=0.2,\n",
    "    missing_kwds={\"color\":\"lightgrey\",\"edgecolor\":\"white\",\"hatch\":\"///\",\"label\":\"Sin datos\"},\n",
    ")\n",
    "ax.set_title(\"IVM promedio por comuna — Básica 1° Ciclo\")\n",
    "ax.set_axis_off()\n",
    "plt.tight_layout()\n",
    "plt.savefig(\"mapa_ivm_basica_1ciclo.png\", dpi=300)\n",
    "plt.show()"
   ]
  },
  {
   "cell_type": "code",
   "execution_count": null,
   "metadata": {},
   "outputs": [],
   "source": [
    "gdf = agg_comunal.copy()\n",
    "\n",
    "fig, ax = plt.subplots(figsize=(8,10))\n",
    "gdf.plot(\n",
    "    column=\"IVM Promedio Básica Segundo Ciclo\",\n",
    "    ax=ax,\n",
    "    legend=True,\n",
    "    cmap=\"OrRd\",\n",
    "    edgecolor=\"white\",\n",
    "    linewidth=0.2,\n",
    "    missing_kwds={\"color\":\"lightgrey\",\"edgecolor\":\"white\",\"hatch\":\"///\",\"label\":\"Sin datos\"},\n",
    ")\n",
    "ax.set_title(\"IVM promedio por comuna — Básica 2° Ciclo\")\n",
    "ax.set_axis_off()\n",
    "plt.tight_layout()\n",
    "plt.savefig(\"mapa_ivm_basica_2ciclo.png\", dpi=300)\n",
    "plt.show()"
   ]
  },
  {
   "cell_type": "code",
   "execution_count": null,
   "metadata": {},
   "outputs": [],
   "source": [
    "\n",
    "gdf = agg_comunal.copy()\n",
    "\n",
    "fig, ax = plt.subplots(figsize=(8,10))\n",
    "gdf.plot(\n",
    "    column=\"IVM Promedio Media\",\n",
    "    ax=ax,\n",
    "    legend=True,\n",
    "    cmap=\"OrRd\",\n",
    "    edgecolor=\"white\",\n",
    "    linewidth=0.2,\n",
    "    missing_kwds={\"color\":\"lightgrey\",\"edgecolor\":\"white\",\"hatch\":\"///\",\"label\":\"Sin datos\"},\n",
    ")\n",
    "ax.set_title(\"IVM promedio por comuna — Media\")\n",
    "ax.set_axis_off()\n",
    "plt.tight_layout()\n",
    "plt.savefig(\"mapa_ivm_media.png\", dpi=300)\n",
    "plt.show()"
   ]
  },
  {
   "cell_type": "markdown",
   "metadata": {},
   "source": [
    "# <h1><center>  6.2 Relación entre ruralidad comunal y vulnerabilidad (0.7 pts)  </center></h1>\n",
    " "
   ]
  },
  {
   "cell_type": "markdown",
   "metadata": {},
   "source": [
    "En la sección **5.2** definimos el **porcentaje de ruralidad** de cada comuna según la cantidad de establecimientos rurales en cada una. Analice y visualice los datos en `agg_comunal` para responder la siguiente pregunta:\n",
    "\n",
    "* ¿Hay alguna correlación entre el IVM promedio y el porcentaje de ruralidad en las comunas de Chile?"
   ]
  },
  {
   "cell_type": "markdown",
   "metadata": {},
   "source": []
  }
 ],
 "metadata": {
  "kernelspec": {
   "display_name": "base",
   "language": "python",
   "name": "python3"
  },
  "language_info": {
   "codemirror_mode": {
    "name": "ipython",
    "version": 3
   },
   "file_extension": ".py",
   "mimetype": "text/x-python",
   "name": "python",
   "nbconvert_exporter": "python",
   "pygments_lexer": "ipython3",
   "version": "3.13.5"
  }
 },
 "nbformat": 4,
 "nbformat_minor": 2
}
