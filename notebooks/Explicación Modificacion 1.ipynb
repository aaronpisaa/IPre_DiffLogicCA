{
 "cells": [
  {
   "cell_type": "markdown",
   "metadata": {},
   "source": [
    "# <img style=\"float: left; padding-right: 20px; width: 200px\" src=\"https://raw.githubusercontent.com/raxlab/imt2200-data/main/media/logo.jpg\">  \n",
    "\n",
    "**IPre 2025 - Cellular Automata, Neural Networks, Visualization**\n",
    "\n",
    "**Pontificia Universidad Católica de Chile**<br>\n",
    "**Instituto de Ingeniería Matemática y Computacional**<br>\n",
    "**Semestre 2025-S2**<br>\n",
    "**Profesores: Denis Parra y Mircea Petrache <br>** "
   ]
  },
  {
   "cell_type": "markdown",
   "metadata": {},
   "source": [
    "#·\n",
    "\n",
    "\n",
    "# <h1><center> Primera modificación</center></h1>\n",
    "\n",
    "**Objetivo:** explicar paso a paso las modificaciones realizadas al modelo."
   ]
  },
  {
   "cell_type": "markdown",
   "metadata": {},
   "source": [
    "\n",
    "- Objetivo general: El objetivo es generalizar el Differentiable Logic CA para que pueda operar sobre cualquier estructura de grafo arbitrario (no-euclidiana) en lugar de estar restringido a una cuadrícula.  \n",
    "\n",
    "- Objetivo específico: Las modificaciones que estamos realizando tienen como objetivo específico el Desacoplamiento Topológico del Modelo (eliminando la dependencia de la cuadrícula 2D)\n",
    "\n",
    "- Empezaremos con una modificación mínima para tener control sobre las modificaciones y trabajaremos unicamente sobre el experimento Lizard. \n",
    "\n",
    "- Modificación propuesta:\n",
    "    - **Modificación**: eliminar la geometría por medio del cambio en la celda `hyperparams`: se elimina la inicialización de los pesos del patrón fijo de Moore. \n",
    "        - Detalles : Sustituimos la topología de conexión `first_kernel` (que impone la geometría del vecindario de Moore de 3x3) por una topología `unique` o `random`. Esto asegura que los wires internos de la red de percepción (perceive) se inicialicen sin suposiciones espaciales fijas (Norte, Sur, Este, etc.).\n",
    "\n",
    "    - **Sustitución** de la Fuente de Adyacencia: Sustituimos la función `get_grid_patches` por una nueva función, `get_adjacency_patches` (para eliminar la  infierencia de la conectividad de la posición `(x, y)` de la cuadrícula mediante convolución)\n",
    "\n",
    "    - **Nueva**:`get_adjacency_patches`: Nueva función que utiliza el tensor de adyacencia `adjacency_indices_padded` y `jnp.take` para extraer las features o características de estado de los 9 inputs definidos lógicamente.\n",
    "\n",
    "    - **Nueva**:`adjacency_indices_padded` nuevo tensor de adyacencia, Tensor de JAX generado por la función `prepare_adjacency_tensor` (que utiliza NetworkX). Este tensor tiene una shape de $(\\mathbf{N_{\\text{nodos}}}, \\mathbf{9})$ y contiene los índices de los 9 inputs (con padding) para cada nodo.\n",
    "\n",
    "    - **Nueva** `prepare_adjacency_tensor`: Esta función toma el mapa de adyacencia de NetworkX (donde cada nodo tiene 8 vecinos) y lo transforma en el tensor de JAX de $N \\times 9$ requerido, asegurando que el nodo central esté en la posición 4\n",
    "\n",
    "    - **Modificación** Las funciones de simulación (`train_step`, `run_sync`, `etc`.) ahora deben aceptar y pasar el tensor de conectividad explícito (`adjacency_indices_padded`) en cada paso: \n",
    "\n",
    "    - **Nueva** Implementación de Grafo Regular: Utilizamos `NetworkX` para definir explícitamente un Grafo regular k=8  \n",
    "        - Beneficios de k=8 , maximiza el flujo de información real, lo que debería facilitar la convergencia durante el entrenamiento, ya que la conectividad total local es muy alta (similar al original, que también tenía 8 vecinos\n",
    "        - Minimiza la dependencia del padding/ceros de relleno\n",
    "\n",
    "    - **Nueva** Se agrega una celda para visualización de la animación del grafo\n",
    "\n",
    "    - **Eliminacion** Se eliminan las celdas correspondientes a los experimentos no adaptados (Gol, Checkerboard, G image)\n",
    "\n",
    "    - **Otras Modificaciones menores** (pendiente) \n",
    "\n",
    "- Porqué esta modificación: Los cambios en el código se centran en el reemplazo principalmente de la  convolucion que fija la relacion local, se reemplaza por un grafo y para ello se utiliza la libreria networkx. \n",
    "\n",
    "- Implementación en el documento \"Implementación de Modificacion 1.ipyinb\"\n",
    "- Ejecución en Patagón del documento (NOS ENCONTRAMOS AQUI)\n",
    "\n",
    "- Resultados\n",
    "- Interpretación de resultados"
   ]
  },
  {
   "cell_type": "markdown",
   "metadata": {},
   "source": [
    "\n",
    "---"
   ]
  },
  {
   "cell_type": "markdown",
   "metadata": {},
   "source": []
  }
 ],
 "metadata": {
  "kernelspec": {
   "display_name": "Python 3",
   "language": "python",
   "name": "python3"
  },
  "language_info": {
   "codemirror_mode": {
    "name": "ipython",
    "version": 3
   },
   "file_extension": ".py",
   "mimetype": "text/x-python",
   "name": "python",
   "nbconvert_exporter": "python",
   "pygments_lexer": "ipython3",
   "version": "3.13.2"
  }
 },
 "nbformat": 4,
 "nbformat_minor": 2
}
